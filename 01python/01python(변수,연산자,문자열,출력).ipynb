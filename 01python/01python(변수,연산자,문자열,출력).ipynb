{
 "cells": [
  {
   "cell_type": "markdown",
   "id": "2451e86e",
   "metadata": {},
   "source": [
    "#### 단축키목록\n",
    "a: 위에 셀 삽입  \n",
    "b: 아래에 셀 삽입  \n",
    "ctrl + enter: 코드실행  \n",
    "shifr + enter: 코드실행 후 다음 행으로 넘어감  \n",
    "y: 프로그램모드  \n",
    "m: 마크다운모드  \n",
    "dd: 셀삭제  \n",
    "alt + a: 전체선택 + ctl + enter 전체실행  \n",
    "\n",
    "<hr/>\n",
    "\n",
    "파이썬 내장함수명으로 변수를 선언하면, 기존의 내장함수를 사용하지 못함  \n",
    "중지 버튼 눌러서 커널을 초기화 해주면 된다."
   ]
  },
  {
   "cell_type": "code",
   "execution_count": 8,
   "id": "a4fcf66b",
   "metadata": {},
   "outputs": [
    {
     "name": "stdout",
     "output_type": "stream",
     "text": [
      "hello 1 3.14 True\n"
     ]
    }
   ],
   "source": [
    "# 변수\n",
    "# 세미콜론은 찍어도 되고, 찍지 않아도 된다.\n",
    "a = 'hello'; #문자열(크기제한x)\n",
    "b = 1 #숫자\n",
    "c = 3.14 #float\n",
    "d = True #False\n",
    "\n",
    "print(a, b, c, d)"
   ]
  },
  {
   "cell_type": "code",
   "execution_count": 12,
   "id": "43543be4",
   "metadata": {},
   "outputs": [
    {
     "data": {
      "text/plain": [
       "2"
      ]
     },
     "execution_count": 12,
     "metadata": {},
     "output_type": "execute_result"
    }
   ],
   "source": [
    "# 연산자\n",
    "# +, -, *, /, %\n",
    "10 * 20\n",
    "20 / 2 #파이썬 / 연산은 항상 실수형이다.\n",
    "20 % 3"
   ]
  },
  {
   "cell_type": "code",
   "execution_count": 18,
   "id": "0b3f5b6a",
   "metadata": {},
   "outputs": [
    {
     "data": {
      "text/plain": [
       "False"
      ]
     },
     "execution_count": 18,
     "metadata": {},
     "output_type": "execute_result"
    }
   ],
   "source": [
    "# 연산자\n",
    "# ==, !=, >=, >, &, |\n",
    "# or and not\n",
    "\n",
    "True or False\n",
    "True | False\n",
    "\n",
    "not True\n",
    "True and True\n",
    "False & False"
   ]
  },
  {
   "cell_type": "markdown",
   "id": "d4637839",
   "metadata": {},
   "source": [
    "### 데이터 타입, 타입캐스팅, 타입확인\n",
    "int, float, bool, str"
   ]
  },
  {
   "cell_type": "code",
   "execution_count": 27,
   "id": "1b29d58f",
   "metadata": {},
   "outputs": [
    {
     "data": {
      "text/plain": [
       "bool"
      ]
     },
     "execution_count": 27,
     "metadata": {},
     "output_type": "execute_result"
    }
   ],
   "source": [
    "a = 10\n",
    "type(a)\n",
    "\n",
    "b = True\n",
    "type(b)"
   ]
  },
  {
   "cell_type": "code",
   "execution_count": 36,
   "id": "69454fee",
   "metadata": {},
   "outputs": [
    {
     "data": {
      "text/plain": [
       "3"
      ]
     },
     "execution_count": 36,
     "metadata": {},
     "output_type": "execute_result"
    }
   ],
   "source": [
    "a = int(3.14)\n",
    "a"
   ]
  },
  {
   "cell_type": "code",
   "execution_count": 43,
   "id": "6efcae83",
   "metadata": {},
   "outputs": [
    {
     "data": {
      "text/plain": [
       "3.14"
      ]
     },
     "execution_count": 43,
     "metadata": {},
     "output_type": "execute_result"
    }
   ],
   "source": [
    "b = float(3.14)\n",
    "b"
   ]
  },
  {
   "cell_type": "code",
   "execution_count": 44,
   "id": "0a8fcca5",
   "metadata": {},
   "outputs": [
    {
     "data": {
      "text/plain": [
       "True"
      ]
     },
     "execution_count": 44,
     "metadata": {},
     "output_type": "execute_result"
    }
   ],
   "source": [
    "c = bool(\"True\")\n",
    "c"
   ]
  },
  {
   "cell_type": "code",
   "execution_count": 45,
   "id": "b7b256b9",
   "metadata": {},
   "outputs": [
    {
     "data": {
      "text/plain": [
       "'3'"
      ]
     },
     "execution_count": 45,
     "metadata": {},
     "output_type": "execute_result"
    }
   ],
   "source": [
    "d = str(3)\n",
    "d"
   ]
  },
  {
   "cell_type": "markdown",
   "id": "f068cf9a",
   "metadata": {},
   "source": [
    "### 문자열 연산"
   ]
  },
  {
   "cell_type": "code",
   "execution_count": 47,
   "id": "dbd10d55",
   "metadata": {},
   "outputs": [
    {
     "data": {
      "text/plain": [
       "'helloworld'"
      ]
     },
     "execution_count": 47,
     "metadata": {},
     "output_type": "execute_result"
    }
   ],
   "source": [
    "'hello' + 'world'"
   ]
  },
  {
   "cell_type": "code",
   "execution_count": 48,
   "id": "a6f801c4",
   "metadata": {},
   "outputs": [
    {
     "data": {
      "text/plain": [
       "'hellohellohellohellohellohellohellohellohellohello'"
      ]
     },
     "execution_count": 48,
     "metadata": {},
     "output_type": "execute_result"
    }
   ],
   "source": [
    "'hello'  * 10  #문자열은 곱하기 연산이 가능함"
   ]
  },
  {
   "cell_type": "code",
   "execution_count": 50,
   "id": "f16c513a",
   "metadata": {},
   "outputs": [],
   "source": [
    "# 'hello' + 10 # 서로 다른 타입을 더하기 연산시 에러발생"
   ]
  },
  {
   "cell_type": "code",
   "execution_count": 53,
   "id": "cd8eab89",
   "metadata": {},
   "outputs": [
    {
     "data": {
      "text/plain": [
       "\"변할려면 어떻게 할까? '나도 변하고 싶다.' 언니가 했던 말을 내가 잘 못알아듣는 걸까?\""
      ]
     },
     "execution_count": 53,
     "metadata": {},
     "output_type": "execute_result"
    }
   ],
   "source": [
    "str = '변할려면 어떻게 할까? \\'나도 변하고 싶다.\\' 언니가 했던 말을 내가 잘 못알아듣는 걸까?'\n",
    "str"
   ]
  },
  {
   "cell_type": "code",
   "execution_count": 56,
   "id": "4014b6af",
   "metadata": {},
   "outputs": [
    {
     "name": "stdout",
     "output_type": "stream",
     "text": [
      "아 월요일이네 \n",
      "집에 가고 싶다\n"
     ]
    }
   ],
   "source": [
    "str = '아 월요일이네 \\n집에 가고 싶다'\n",
    "print(str)"
   ]
  },
  {
   "cell_type": "code",
   "execution_count": 58,
   "id": "df088854",
   "metadata": {},
   "outputs": [
    {
     "name": "stdout",
     "output_type": "stream",
     "text": [
      "아 월요일이네\n",
      "집에가고 싶다\n"
     ]
    }
   ],
   "source": [
    "str = '''아 월요일이네\n",
    "집에가고 싶다'''\n",
    "print(str)"
   ]
  },
  {
   "cell_type": "markdown",
   "id": "9e50b8ef",
   "metadata": {},
   "source": [
    "### 문자열 함수"
   ]
  },
  {
   "cell_type": "code",
   "execution_count": 65,
   "id": "9992188c",
   "metadata": {},
   "outputs": [
    {
     "data": {
      "text/plain": [
       "19"
      ]
     },
     "execution_count": 65,
     "metadata": {},
     "output_type": "execute_result"
    }
   ],
   "source": [
    "# .찍고 탭 => \n",
    "# shift + tab\n",
    "str.count('아') #아 의 개수\n",
    "\n",
    "str.find('집') #'집'의 위치\n",
    "\n",
    "str = str.replace('집', 'home') #원본문자는 변경이 없다\n",
    "str\n",
    "\n",
    "str = '홍길동|20세|111-222-333'\n",
    "str.split('|')\n",
    "\n",
    "#공통내장함수 -> 파이썬에서는 어디서든 사용할 수 있는 특정함수들이 있다.\n",
    "len(str) \n"
   ]
  },
  {
   "cell_type": "markdown",
   "id": "b36a1850",
   "metadata": {},
   "source": [
    "### 출력의 형태"
   ]
  },
  {
   "cell_type": "code",
   "execution_count": 80,
   "id": "80254ae3",
   "metadata": {},
   "outputs": [
    {
     "name": "stdout",
     "output_type": "stream",
     "text": [
      "사과가3개 있습니다\n",
      "사과가-3-개 있습니다\n",
      "사과가 3개 있습니다\n"
     ]
    },
    {
     "data": {
      "text/plain": [
       "'사과가 3.000개 있습니다. 맬론은 10개 있는데. 헐 맛있겠다'"
      ]
     },
     "execution_count": 80,
     "metadata": {},
     "output_type": "execute_result"
    }
   ],
   "source": [
    "apple = 3\n",
    "print('사과가', apple, '개 있습니다', sep='')\n",
    "print('사과가', apple, '개 있습니다', sep='-')\n",
    "\n",
    "#.format()\n",
    "print('사과가 {}개 있습니다' .format(apple) )\n",
    "\n",
    "melon = 10\n",
    "'사과가 {:.3f}개 있습니다. 맬론은 {:d}개 있는데. {:s} 맛있겠다'.format(apple, melon, '헐')"
   ]
  },
  {
   "cell_type": "markdown",
   "id": "85703607",
   "metadata": {},
   "source": [
    "### 입력\n",
    "input()\n",
    "\n",
    "Scanner scan = new Scanner(System.in)  \n",
    "a = scan.println();"
   ]
  },
  {
   "cell_type": "code",
   "execution_count": 81,
   "id": "b7abfc7b",
   "metadata": {},
   "outputs": [
    {
     "name": "stdout",
     "output_type": "stream",
     "text": [
      "안녕하세요\n"
     ]
    },
    {
     "data": {
      "text/plain": [
       "'안녕하세요'"
      ]
     },
     "execution_count": 81,
     "metadata": {},
     "output_type": "execute_result"
    }
   ],
   "source": [
    "a = input()\n",
    "a"
   ]
  },
  {
   "cell_type": "code",
   "execution_count": 83,
   "id": "8914153d",
   "metadata": {},
   "outputs": [
    {
     "name": "stdout",
     "output_type": "stream",
     "text": [
      "할일을 적으세요>집에 가고 싶다\n"
     ]
    },
    {
     "data": {
      "text/plain": [
       "'집에 가고 싶다'"
      ]
     },
     "execution_count": 83,
     "metadata": {},
     "output_type": "execute_result"
    }
   ],
   "source": [
    "a = input('할일을 적으세요>')\n",
    "a"
   ]
  },
  {
   "cell_type": "code",
   "execution_count": 84,
   "id": "883dd133",
   "metadata": {},
   "outputs": [
    {
     "name": "stdout",
     "output_type": "stream",
     "text": [
      "정수로 입력하세요>1\n"
     ]
    },
    {
     "data": {
      "text/plain": [
       "int"
      ]
     },
     "execution_count": 84,
     "metadata": {},
     "output_type": "execute_result"
    }
   ],
   "source": [
    "a = int(input('정수로 입력하세요>'))\n",
    "a\n",
    "\n",
    "type(a)"
   ]
  },
  {
   "cell_type": "code",
   "execution_count": null,
   "id": "bca0a12b",
   "metadata": {},
   "outputs": [],
   "source": []
  },
  {
   "cell_type": "code",
   "execution_count": null,
   "id": "d115d3fe",
   "metadata": {},
   "outputs": [],
   "source": []
  },
  {
   "cell_type": "code",
   "execution_count": null,
   "id": "30fcb928",
   "metadata": {},
   "outputs": [],
   "source": []
  },
  {
   "cell_type": "code",
   "execution_count": null,
   "id": "6e435b16",
   "metadata": {},
   "outputs": [],
   "source": []
  },
  {
   "cell_type": "code",
   "execution_count": null,
   "id": "9fab14ed",
   "metadata": {},
   "outputs": [],
   "source": []
  }
 ],
 "metadata": {
  "kernelspec": {
   "display_name": "Python 3 (ipykernel)",
   "language": "python",
   "name": "python3"
  },
  "language_info": {
   "codemirror_mode": {
    "name": "ipython",
    "version": 3
   },
   "file_extension": ".py",
   "mimetype": "text/x-python",
   "name": "python",
   "nbconvert_exporter": "python",
   "pygments_lexer": "ipython3",
   "version": "3.11.4"
  }
 },
 "nbformat": 4,
 "nbformat_minor": 5
}

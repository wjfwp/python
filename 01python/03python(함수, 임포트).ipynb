{
 "cells": [
  {
   "cell_type": "markdown",
   "id": "a9509a44",
   "metadata": {},
   "source": [
    "### 함수(메서드)\n",
    "- def 함수명:"
   ]
  },
  {
   "cell_type": "code",
   "execution_count": 3,
   "id": "6c9017be",
   "metadata": {},
   "outputs": [
    {
     "name": "stdout",
     "output_type": "stream",
     "text": [
      "안녕하세요\n"
     ]
    },
    {
     "data": {
      "text/plain": [
       "'안녕하세요'"
      ]
     },
     "execution_count": 3,
     "metadata": {},
     "output_type": "execute_result"
    }
   ],
   "source": [
    "def say_hello() :\n",
    "    \n",
    "    print('안녕하세요')\n",
    "    return '안녕하세요'\n",
    "\n",
    "a = say_hello()\n",
    "a"
   ]
  },
  {
   "cell_type": "code",
   "execution_count": 10,
   "id": "d56d415e",
   "metadata": {},
   "outputs": [
    {
     "name": "stdout",
     "output_type": "stream",
     "text": [
      "이름은 홍길동 입니다\n",
      "나이는 20 입니다\n"
     ]
    },
    {
     "data": {
      "text/plain": [
       "('홍길동', 20)"
      ]
     },
     "execution_count": 10,
     "metadata": {},
     "output_type": "execute_result"
    }
   ],
   "source": [
    "def get_info(name, age) :\n",
    "    #print('이름은 {} 입니다'.format(name) )\n",
    "    print(f'이름은 {name} 입니다')\n",
    "    print(f'나이는 {age} 입니다')\n",
    "    \n",
    "    return name, age # ()생략가능\n",
    "\n",
    "a = get_info('홍길동', 20)\n",
    "a"
   ]
  },
  {
   "cell_type": "markdown",
   "id": "317897fb",
   "metadata": {},
   "source": [
    "### 전역변수 vs 지역변수"
   ]
  },
  {
   "cell_type": "code",
   "execution_count": 15,
   "id": "cc78a292",
   "metadata": {},
   "outputs": [],
   "source": [
    "a = '홍길자' # 전역변수\n",
    "\n",
    "def func1() :\n",
    "    print(a) # 전역변수의 사용 o\n",
    "    b = 10 # 지역변수\n",
    "\n",
    "# b # 전역에서 지역의 참조는 불가능"
   ]
  },
  {
   "cell_type": "code",
   "execution_count": 19,
   "id": "80f28d13",
   "metadata": {},
   "outputs": [
    {
     "ename": "UnboundLocalError",
     "evalue": "cannot access local variable 'c' where it is not associated with a value",
     "output_type": "error",
     "traceback": [
      "\u001b[1;31m---------------------------------------------------------------------------\u001b[0m",
      "\u001b[1;31mUnboundLocalError\u001b[0m                         Traceback (most recent call last)",
      "Cell \u001b[1;32mIn[19], line 7\u001b[0m\n\u001b[0;32m      4\u001b[0m     c \u001b[38;5;241m=\u001b[39m \u001b[38;5;241m100\u001b[39m\n\u001b[0;32m      5\u001b[0m     \u001b[38;5;28mprint\u001b[39m(\u001b[38;5;124m'\u001b[39m\u001b[38;5;124mafter\u001b[39m\u001b[38;5;124m'\u001b[39m, c)\n\u001b[1;32m----> 7\u001b[0m func2()\n",
      "Cell \u001b[1;32mIn[19], line 3\u001b[0m, in \u001b[0;36mfunc2\u001b[1;34m()\u001b[0m\n\u001b[0;32m      2\u001b[0m \u001b[38;5;28;01mdef\u001b[39;00m \u001b[38;5;21mfunc2\u001b[39m() :\n\u001b[1;32m----> 3\u001b[0m     \u001b[38;5;28mprint\u001b[39m(\u001b[38;5;124m'\u001b[39m\u001b[38;5;124mbefore\u001b[39m\u001b[38;5;124m'\u001b[39m, c)\n\u001b[0;32m      4\u001b[0m     c \u001b[38;5;241m=\u001b[39m \u001b[38;5;241m100\u001b[39m\n\u001b[0;32m      5\u001b[0m     \u001b[38;5;28mprint\u001b[39m(\u001b[38;5;124m'\u001b[39m\u001b[38;5;124mafter\u001b[39m\u001b[38;5;124m'\u001b[39m, c)\n",
      "\u001b[1;31mUnboundLocalError\u001b[0m: cannot access local variable 'c' where it is not associated with a value"
     ]
    }
   ],
   "source": [
    "c = 10\n",
    "def func2() :\n",
    "    print('before', c) # c가 함수안에 선언된 지역변수를 참조하면서 값이 없기 때문에 에러가 발생한다.\n",
    "    c = 100\n",
    "    print('after', c)\n",
    "    \n",
    "func2()"
   ]
  },
  {
   "cell_type": "code",
   "execution_count": 21,
   "id": "dfc141cd",
   "metadata": {},
   "outputs": [
    {
     "name": "stdout",
     "output_type": "stream",
     "text": [
      "before 10\n",
      "after 100\n"
     ]
    }
   ],
   "source": [
    "c = 10\n",
    "def func2() :\n",
    "    global c # 변수 사용전에 global키워드를 사용하면 전역변수를 참조한다.\n",
    "    print('before', c) \n",
    "    c = 100\n",
    "    print('after', c)\n",
    "    \n",
    "func2()"
   ]
  },
  {
   "cell_type": "code",
   "execution_count": 24,
   "id": "af5a9044",
   "metadata": {},
   "outputs": [
    {
     "name": "stdout",
     "output_type": "stream",
     "text": [
      "hello\n"
     ]
    }
   ],
   "source": [
    "# 파이썬 함수는, 함수를 변수에 저장하는게 가능하다.\n",
    "\n",
    "def func3() :\n",
    "    print('hello')\n",
    "    \n",
    "a = func3\n",
    "a()"
   ]
  },
  {
   "cell_type": "markdown",
   "id": "c996cbbd",
   "metadata": {},
   "source": [
    "### 함수의 default키워드 keyword매개변수"
   ]
  },
  {
   "cell_type": "code",
   "execution_count": 33,
   "id": "67e71d68",
   "metadata": {},
   "outputs": [
    {
     "data": {
      "text/plain": [
       "2500"
      ]
     },
     "execution_count": 33,
     "metadata": {},
     "output_type": "execute_result"
    }
   ],
   "source": [
    "# default매개변수\n",
    "# 가장 마지막에 작성\n",
    "#만약 값을 전달하지 않으면 기본값으로 사용된다.\n",
    "\n",
    "def calc(begin, end = 10, step = 1) : \n",
    "    \n",
    "    sum = 0\n",
    "    for i in range(begin, end + 1, step) :\n",
    "        sum += i\n",
    "    \n",
    "    return sum\n",
    "\n",
    "calc(1)\n",
    "calc(1, 100)\n",
    "calc(1, 100, 2)"
   ]
  },
  {
   "cell_type": "code",
   "execution_count": 39,
   "id": "63b405b6",
   "metadata": {},
   "outputs": [
    {
     "name": "stdout",
     "output_type": "stream",
     "text": [
      "1 10 1\n",
      "1 10 2\n",
      "1 100 2\n",
      "hello-world-bye"
     ]
    }
   ],
   "source": [
    "# 키워드 매개변수는, 함수를 호출할 떄 매개변수를 명칭해서 값을 전달하는 방법\n",
    "\n",
    "def calc2(begin, end, step) :\n",
    "    print(begin, end, step)\n",
    "    \n",
    "calc2(begin = 1, end = 10, step = 1)\n",
    "calc2(end = 10, begin = 1, step = 2)\n",
    "calc2(step = 2, end = 100, begin = 1)\n",
    "\n",
    "print('hello', 'world', 'bye', sep = '-', end = '') # 키워드 매개변수 개념\n"
   ]
  },
  {
   "cell_type": "markdown",
   "id": "82713167",
   "metadata": {},
   "source": [
    "### 모듈 임포트\n",
    "\n",
    "파이썬에서 모듈은 미리 만들어진 스크립트 파일 py  \n",
    "기본 모듈은 주피터 내장으로 built-in 되어 있다"
   ]
  },
  {
   "cell_type": "code",
   "execution_count": 46,
   "id": "980fac39",
   "metadata": {},
   "outputs": [
    {
     "data": {
      "text/plain": [
       "3"
      ]
     },
     "execution_count": 46,
     "metadata": {},
     "output_type": "execute_result"
    }
   ],
   "source": [
    "import math # math모듈을 가져온다\n",
    "\n",
    "math.pi\n",
    "math.ceil(3.14) # 올리\n",
    "math.floor(3.14) # 내림"
   ]
  },
  {
   "cell_type": "code",
   "execution_count": 50,
   "id": "59783e17",
   "metadata": {},
   "outputs": [
    {
     "data": {
      "text/plain": [
       "3.141592653589793"
      ]
     },
     "execution_count": 50,
     "metadata": {},
     "output_type": "execute_result"
    }
   ],
   "source": [
    "from math import ceil, floor, pi # math모듈에서 특정 기능만 가져오기\n",
    "\n",
    "ceil(3.14)\n",
    "floor(3.14)\n",
    "pi"
   ]
  },
  {
   "cell_type": "code",
   "execution_count": 54,
   "id": "1100eac5",
   "metadata": {},
   "outputs": [
    {
     "data": {
      "text/plain": [
       "3.141592653589793"
      ]
     },
     "execution_count": 54,
     "metadata": {},
     "output_type": "execute_result"
    }
   ],
   "source": [
    "from math import ceil as c1, floor as f1, pi as p # 별칭붙이기 ceil가져오는데 c1이름으로 가져옴 (많이 사용하지 않는다)\n",
    "\n",
    "c1(3.14)\n",
    "f1(3.14)\n",
    "p\n"
   ]
  },
  {
   "cell_type": "code",
   "execution_count": 55,
   "id": "db333654",
   "metadata": {},
   "outputs": [
    {
     "data": {
      "text/plain": [
       "0    1\n",
       "1    2\n",
       "2    3\n",
       "3    4\n",
       "4    5\n",
       "dtype: int64"
      ]
     },
     "execution_count": 55,
     "metadata": {},
     "output_type": "execute_result"
    }
   ],
   "source": [
    "import pandas as pd\n",
    "\n",
    "pd.Series([1,2,3,4,5])"
   ]
  },
  {
   "cell_type": "code",
   "execution_count": null,
   "id": "66dbf2c0",
   "metadata": {},
   "outputs": [],
   "source": []
  },
  {
   "cell_type": "code",
   "execution_count": null,
   "id": "9a81423d",
   "metadata": {},
   "outputs": [],
   "source": []
  },
  {
   "cell_type": "code",
   "execution_count": null,
   "id": "56eb6b5b",
   "metadata": {},
   "outputs": [],
   "source": []
  },
  {
   "cell_type": "code",
   "execution_count": null,
   "id": "dc5cc987",
   "metadata": {},
   "outputs": [],
   "source": []
  },
  {
   "cell_type": "code",
   "execution_count": null,
   "id": "0fd06da4",
   "metadata": {},
   "outputs": [],
   "source": []
  },
  {
   "cell_type": "code",
   "execution_count": null,
   "id": "c01024f8",
   "metadata": {},
   "outputs": [],
   "source": []
  },
  {
   "cell_type": "code",
   "execution_count": null,
   "id": "899ffede",
   "metadata": {},
   "outputs": [],
   "source": []
  },
  {
   "cell_type": "code",
   "execution_count": null,
   "id": "a24c9b74",
   "metadata": {},
   "outputs": [],
   "source": []
  },
  {
   "cell_type": "code",
   "execution_count": null,
   "id": "dae89d53",
   "metadata": {},
   "outputs": [],
   "source": []
  },
  {
   "cell_type": "code",
   "execution_count": null,
   "id": "d2da8ada",
   "metadata": {},
   "outputs": [],
   "source": []
  },
  {
   "cell_type": "code",
   "execution_count": null,
   "id": "642d02f8",
   "metadata": {},
   "outputs": [],
   "source": []
  },
  {
   "cell_type": "code",
   "execution_count": null,
   "id": "d2e9c890",
   "metadata": {},
   "outputs": [],
   "source": []
  },
  {
   "cell_type": "code",
   "execution_count": null,
   "id": "f5c23de1",
   "metadata": {},
   "outputs": [],
   "source": []
  },
  {
   "cell_type": "code",
   "execution_count": null,
   "id": "478ad20b",
   "metadata": {},
   "outputs": [],
   "source": []
  },
  {
   "cell_type": "code",
   "execution_count": null,
   "id": "ac91e9b2",
   "metadata": {},
   "outputs": [],
   "source": []
  },
  {
   "cell_type": "code",
   "execution_count": null,
   "id": "1b5f8a28",
   "metadata": {},
   "outputs": [],
   "source": []
  },
  {
   "cell_type": "code",
   "execution_count": null,
   "id": "2d8d25ea",
   "metadata": {},
   "outputs": [],
   "source": []
  },
  {
   "cell_type": "code",
   "execution_count": null,
   "id": "1d99793d",
   "metadata": {},
   "outputs": [],
   "source": []
  },
  {
   "cell_type": "code",
   "execution_count": null,
   "id": "12bd7a06",
   "metadata": {},
   "outputs": [],
   "source": []
  },
  {
   "cell_type": "code",
   "execution_count": null,
   "id": "0d9b27e4",
   "metadata": {},
   "outputs": [],
   "source": []
  },
  {
   "cell_type": "code",
   "execution_count": null,
   "id": "848de983",
   "metadata": {},
   "outputs": [],
   "source": []
  },
  {
   "cell_type": "code",
   "execution_count": null,
   "id": "4b6a22e9",
   "metadata": {},
   "outputs": [],
   "source": []
  },
  {
   "cell_type": "code",
   "execution_count": null,
   "id": "b97d48dd",
   "metadata": {},
   "outputs": [],
   "source": []
  },
  {
   "cell_type": "code",
   "execution_count": null,
   "id": "b9da7454",
   "metadata": {},
   "outputs": [],
   "source": []
  },
  {
   "cell_type": "code",
   "execution_count": null,
   "id": "82f8a72f",
   "metadata": {},
   "outputs": [],
   "source": []
  },
  {
   "cell_type": "code",
   "execution_count": null,
   "id": "2eeb62b2",
   "metadata": {},
   "outputs": [],
   "source": []
  },
  {
   "cell_type": "code",
   "execution_count": null,
   "id": "3224b534",
   "metadata": {},
   "outputs": [],
   "source": []
  },
  {
   "cell_type": "code",
   "execution_count": null,
   "id": "abe17d2e",
   "metadata": {},
   "outputs": [],
   "source": []
  },
  {
   "cell_type": "code",
   "execution_count": null,
   "id": "83e0cd4e",
   "metadata": {},
   "outputs": [],
   "source": []
  },
  {
   "cell_type": "code",
   "execution_count": null,
   "id": "d3d08863",
   "metadata": {},
   "outputs": [],
   "source": []
  },
  {
   "cell_type": "code",
   "execution_count": null,
   "id": "babf3902",
   "metadata": {},
   "outputs": [],
   "source": []
  },
  {
   "cell_type": "code",
   "execution_count": null,
   "id": "eba8499b",
   "metadata": {},
   "outputs": [],
   "source": []
  },
  {
   "cell_type": "code",
   "execution_count": null,
   "id": "54758706",
   "metadata": {},
   "outputs": [],
   "source": []
  },
  {
   "cell_type": "code",
   "execution_count": null,
   "id": "40548174",
   "metadata": {},
   "outputs": [],
   "source": []
  }
 ],
 "metadata": {
  "kernelspec": {
   "display_name": "Python 3 (ipykernel)",
   "language": "python",
   "name": "python3"
  },
  "language_info": {
   "codemirror_mode": {
    "name": "ipython",
    "version": 3
   },
   "file_extension": ".py",
   "mimetype": "text/x-python",
   "name": "python",
   "nbconvert_exporter": "python",
   "pygments_lexer": "ipython3",
   "version": "3.11.4"
  }
 },
 "nbformat": 4,
 "nbformat_minor": 5
}

{
 "cells": [
  {
   "cell_type": "markdown",
   "id": "1af83488",
   "metadata": {},
   "source": [
    "### 제어문 if elif else\n",
    " - 파이썬에서는 중괄호가 들어쓰기로 변환된다."
   ]
  },
  {
   "cell_type": "code",
   "execution_count": 3,
   "id": "03d3295e",
   "metadata": {},
   "outputs": [
    {
     "name": "stdout",
     "output_type": "stream",
     "text": [
      "촉법소년 이시네요\n",
      "if문 끝\n"
     ]
    }
   ],
   "source": [
    "age = 10\n",
    "# if(age >= 20){\n",
    "# }\n",
    "\n",
    "if age >= 20 :\n",
    "    print('당신은 성인입니다.')\n",
    "elif age >= 17 :\n",
    "    print('당신은 고등학생입니다')\n",
    "elif age >= 14 :\n",
    "    print('당신은 중학생 입니다')\n",
    "else :\n",
    "    print('촉법소년 이시네요')\n",
    "    \n",
    "print('if문 끝')"
   ]
  },
  {
   "cell_type": "markdown",
   "id": "d9d46bdc",
   "metadata": {},
   "source": [
    "### 제어문 while"
   ]
  },
  {
   "cell_type": "code",
   "execution_count": 5,
   "id": "24dc2984",
   "metadata": {},
   "outputs": [
    {
     "name": "stdout",
     "output_type": "stream",
     "text": [
      "hello 1\n",
      "hello 2\n",
      "hello 3\n",
      "hello 4\n",
      "hello 5\n",
      "hello 6\n",
      "hello 7\n",
      "hello 8\n",
      "hello 9\n",
      "hello 10\n",
      "현재 n의 값: 11\n"
     ]
    }
   ],
   "source": [
    "n = 1\n",
    "while n <= 10 :\n",
    "    print('hello', n)\n",
    "    \n",
    "    n+=1\n",
    "    # n++ # ++은 파이썬에 없다\n",
    "\n",
    "print('현재 n의 값:', n)\n"
   ]
  },
  {
   "cell_type": "code",
   "execution_count": 8,
   "id": "274f9b0f",
   "metadata": {},
   "outputs": [
    {
     "name": "stdout",
     "output_type": "stream",
     "text": [
      "55\n"
     ]
    }
   ],
   "source": [
    "# 1~10까지 합계 구하기\n",
    "n = 1\n",
    "sum = 0\n",
    "\n",
    "while n <= 10 :\n",
    "    sum += n\n",
    "    n += 1\n",
    "    \n",
    "print(sum)"
   ]
  },
  {
   "cell_type": "markdown",
   "id": "137fd2e3",
   "metadata": {},
   "source": [
    "### for문\n",
    "- 향상된 for문과 유사함"
   ]
  },
  {
   "cell_type": "code",
   "execution_count": 9,
   "id": "881e53a7",
   "metadata": {},
   "outputs": [
    {
     "name": "stdout",
     "output_type": "stream",
     "text": [
      "1\n",
      "2\n",
      "3\n",
      "4\n",
      "5\n",
      "6\n",
      "7\n",
      "8\n",
      "9\n"
     ]
    }
   ],
   "source": [
    "# for i in 순서를 가지고 있는 요소 :\n",
    "for i in [1,2,3,4,5,6,7,8,9] :\n",
    "    print(i)"
   ]
  },
  {
   "cell_type": "code",
   "execution_count": 10,
   "id": "7a5791c0",
   "metadata": {},
   "outputs": [
    {
     "name": "stdout",
     "output_type": "stream",
     "text": [
      "안\n",
      "녕\n",
      "하\n",
      "세\n",
      "요\n",
      " \n",
      "오\n",
      "늘\n",
      "은\n",
      " \n",
      "날\n",
      "씨\n",
      "가\n",
      " \n",
      "덥\n",
      "네\n",
      "요\n"
     ]
    }
   ],
   "source": [
    "for i in '안녕하세요 오늘은 날씨가 덥네요' :\n",
    "    print(i)"
   ]
  },
  {
   "cell_type": "code",
   "execution_count": 12,
   "id": "22a7337f",
   "metadata": {},
   "outputs": [
    {
     "name": "stdout",
     "output_type": "stream",
     "text": [
      "0 1 2 3 4 5 6 7 8 9 "
     ]
    }
   ],
   "source": [
    "# range(10) - 0~10미만\n",
    "for i in range(10) :\n",
    "    print(i, end=' ')\n"
   ]
  },
  {
   "cell_type": "code",
   "execution_count": 13,
   "id": "cd492eaf",
   "metadata": {},
   "outputs": [
    {
     "name": "stdout",
     "output_type": "stream",
     "text": [
      "1 2 3 4 5 6 7 8 9 "
     ]
    }
   ],
   "source": [
    "for i in range(1,10) : # 1이상 10미만\n",
    "    print(i, end= ' ')"
   ]
  },
  {
   "cell_type": "code",
   "execution_count": 14,
   "id": "903af731",
   "metadata": {},
   "outputs": [
    {
     "name": "stdout",
     "output_type": "stream",
     "text": [
      "1 3 5 7 9 "
     ]
    }
   ],
   "source": [
    "#step을 생략하면 자동으로 1\n",
    "for i in range(1, 10, 2) : # 1이상 10미만, 스탭=2\n",
    "    print(i, end= ' ')"
   ]
  },
  {
   "cell_type": "markdown",
   "id": "5a101529",
   "metadata": {},
   "source": [
    "### 탈출문 break, continue, pass"
   ]
  },
  {
   "cell_type": "code",
   "execution_count": 18,
   "id": "72005227",
   "metadata": {},
   "outputs": [
    {
     "name": "stdout",
     "output_type": "stream",
     "text": [
      "1\n",
      "2\n",
      "3\n",
      "4\n"
     ]
    }
   ],
   "source": [
    "for i in range(1,11): # 1~11미만\n",
    "    if i == 5 :\n",
    "        break\n",
    "        # continue\n",
    "        \n",
    "    print(i)"
   ]
  },
  {
   "cell_type": "code",
   "execution_count": 22,
   "id": "6b247c86",
   "metadata": {},
   "outputs": [
    {
     "name": "stdout",
     "output_type": "stream",
     "text": [
      "1\n"
     ]
    }
   ],
   "source": [
    "# pass 그냥 다음으로 넘어감 -> if, for문 비워두면 에러가 발생 -> pass를 쓰고 넘어간다\n",
    "if True :\n",
    "    pass\n",
    "\n",
    "print(1)"
   ]
  },
  {
   "cell_type": "markdown",
   "id": "67360c72",
   "metadata": {},
   "source": [
    "### 데이터구조 list"
   ]
  },
  {
   "cell_type": "code",
   "execution_count": 26,
   "id": "ffcaafe0",
   "metadata": {},
   "outputs": [
    {
     "data": {
      "text/plain": [
       "[0, 1, 2, 3, 4, 5, 6, 7, 8, 9]"
      ]
     },
     "execution_count": 26,
     "metadata": {},
     "output_type": "execute_result"
    }
   ],
   "source": [
    "# 리스트는 순서를 가지는 자료형 (ex: 어레이리스트)\n",
    "a = [] # 빈 리스트\n",
    "a = list() # 빈리스트\n",
    "a = [1,2,3,4,5,6,7,8,9]\n",
    "a = list(range(10))\n",
    "a"
   ]
  },
  {
   "cell_type": "code",
   "execution_count": 27,
   "id": "0627241a",
   "metadata": {},
   "outputs": [
    {
     "data": {
      "text/plain": [
       "[0, 1, 2, 3, 4, 5, 6, 7, 8, 9, 10]"
      ]
     },
     "execution_count": 27,
     "metadata": {},
     "output_type": "execute_result"
    }
   ],
   "source": [
    "# appent - 끝에 추가\n",
    "#insert - 중간에 추가\n",
    "#remove - 삭제\n",
    "#공용함수 del - 삭제\n",
    "\n",
    "a.append(10)\n",
    "a"
   ]
  },
  {
   "cell_type": "code",
   "execution_count": 28,
   "id": "98479d4b",
   "metadata": {},
   "outputs": [
    {
     "data": {
      "text/plain": [
       "[0, 'hello', 1, 2, 3, 4, 5, 6, 7, 8, 9, 10]"
      ]
     },
     "execution_count": 28,
     "metadata": {},
     "output_type": "execute_result"
    }
   ],
   "source": [
    "a.insert(1, 'hello') #인덱스,값\n",
    "a"
   ]
  },
  {
   "cell_type": "code",
   "execution_count": 30,
   "id": "be329885",
   "metadata": {},
   "outputs": [
    {
     "data": {
      "text/plain": [
       "[0, 1, 2, 3, 4, 5, 6, 7, 8, 9, 10]"
      ]
     },
     "execution_count": 30,
     "metadata": {},
     "output_type": "execute_result"
    }
   ],
   "source": [
    "a.remove('hello') #값으로 삭제(가장 첫번쨰 발견되는)\n",
    "a"
   ]
  },
  {
   "cell_type": "code",
   "execution_count": 31,
   "id": "e4c20005",
   "metadata": {},
   "outputs": [],
   "source": [
    "del( a[0] ) #인덱스 번호로 삭제할 때는 공용내장함수 del  사용"
   ]
  },
  {
   "cell_type": "code",
   "execution_count": 32,
   "id": "a18140c9",
   "metadata": {},
   "outputs": [
    {
     "data": {
      "text/plain": [
       "[1, 2, 3, 4, 5, 6, 7, 8, 9, 10]"
      ]
     },
     "execution_count": 32,
     "metadata": {},
     "output_type": "execute_result"
    }
   ],
   "source": [
    "a"
   ]
  },
  {
   "cell_type": "code",
   "execution_count": 33,
   "id": "9642bb81",
   "metadata": {},
   "outputs": [],
   "source": [
    "del( a[len(a)-1] )"
   ]
  },
  {
   "cell_type": "code",
   "execution_count": 34,
   "id": "09a34589",
   "metadata": {},
   "outputs": [
    {
     "data": {
      "text/plain": [
       "[1, 2, 3, 4, 5, 6, 7, 8, 9]"
      ]
     },
     "execution_count": 34,
     "metadata": {},
     "output_type": "execute_result"
    }
   ],
   "source": [
    "a"
   ]
  },
  {
   "cell_type": "markdown",
   "id": "5b243099",
   "metadata": {},
   "source": [
    "### 인덱싱, 슬라이싱"
   ]
  },
  {
   "cell_type": "code",
   "execution_count": 37,
   "id": "047cf345",
   "metadata": {},
   "outputs": [
    {
     "data": {
      "text/plain": [
       "[10, 2, 3, 4, 5]"
      ]
     },
     "execution_count": 37,
     "metadata": {},
     "output_type": "execute_result"
    }
   ],
   "source": [
    "# 리스트 인덱싱 - 리스트의 인덱스 번호로 값을 변경, 확인\n",
    "a = [1,2,3,4,5]\n",
    "a[0] = 10 #값의 변경\n",
    "a"
   ]
  },
  {
   "cell_type": "code",
   "execution_count": 47,
   "id": "55e237bf",
   "metadata": {},
   "outputs": [
    {
     "name": "stdout",
     "output_type": "stream",
     "text": [
      "[0, 1, 2, 3, 4, 5, 6, 7, 8, 9]\n",
      "[0, 1, 2]\n",
      "[0, 2]\n",
      "[0, 1, 2, 3, 4]\n",
      "[3, 4, 5, 6, 7, 8, 9]\n",
      "[0, 3, 6, 9]\n"
     ]
    }
   ],
   "source": [
    "# 리스트 슬라이싱 - 리스트[시작: 끝: 스탭]  #끝지점 미만까지 슬라이싱 #스탭은 생략가능\n",
    "a = list(range(10))\n",
    "print(a)\n",
    "\n",
    "print( a[0: 3]) # 0 이상 3미만 리스트 슬라이싱\n",
    "print( a[0: 3: 2] )\n",
    "print( a[ : 5] ) #비워두면 처음부터\n",
    "print( a[3 : ] )\n",
    "\n",
    "print( a[: : 3] ) #시작~끝 ~3스탭마다"
   ]
  },
  {
   "cell_type": "code",
   "execution_count": 52,
   "id": "55c34413",
   "metadata": {},
   "outputs": [
    {
     "data": {
      "text/plain": [
       "'!'"
      ]
     },
     "execution_count": 52,
     "metadata": {},
     "output_type": "execute_result"
    }
   ],
   "source": [
    "# 문자열도 리스트입니다\n",
    "str = '와 점심시간이다!'\n",
    "str[0]\n",
    "str[ len(str) - 1 ]\n",
    "\n",
    "# str[:3] # 문자열도 인덱싱 슬라이싱 된다.\n",
    "\n",
    "#for i in str :\n",
    "#    print(i, end='')"
   ]
  },
  {
   "cell_type": "code",
   "execution_count": 5,
   "id": "1c2767d3",
   "metadata": {},
   "outputs": [
    {
     "data": {
      "text/plain": [
       "[1, 2, 3, 4, 5, 1, 2, 3, 4, 5, 1, 2, 3, 4, 5]"
      ]
     },
     "execution_count": 5,
     "metadata": {},
     "output_type": "execute_result"
    }
   ],
   "source": [
    "# 리스트 연산 +, * 연산\n",
    "\n",
    "list1 = [1,2,3,4,5]\n",
    "list2 = list( range(1,3) )\n",
    "\n",
    "list1 + list2\n",
    "list1 + list2 + list2\n",
    "\n",
    "list1 * 3"
   ]
  },
  {
   "cell_type": "markdown",
   "id": "b82447ad",
   "metadata": {},
   "source": [
    "### 튜플(tuple)\n",
    "- 튜플은 집합\n",
    "- 리스트와 비슷하지만, 변경 불가한 리스트(한번 값이 저장되면, 값의 변경 불가)"
   ]
  },
  {
   "cell_type": "code",
   "execution_count": 10,
   "id": "146a0ec1",
   "metadata": {},
   "outputs": [
    {
     "data": {
      "text/plain": [
       "(1, 2, 3, 4, 5)"
      ]
     },
     "execution_count": 10,
     "metadata": {},
     "output_type": "execute_result"
    }
   ],
   "source": [
    "# 튜플은 ()로 생성\n",
    "point = (1,2,3,4,5)\n",
    "point = tuple( range(1,6) )\n",
    "point = 1,2,3,4,5 # ()생략이 가능\n",
    "point"
   ]
  },
  {
   "cell_type": "code",
   "execution_count": 18,
   "id": "1693b327",
   "metadata": {},
   "outputs": [
    {
     "data": {
      "text/plain": [
       "(1, 2, 3, 4, 5, 1, 2, 3, 4, 5, 1, 2, 3, 4, 5)"
      ]
     },
     "execution_count": 18,
     "metadata": {},
     "output_type": "execute_result"
    }
   ],
   "source": [
    "# 튜플의 인덱싱, 슬라이싱\n",
    "\n",
    "point[0]\n",
    "point[4]\n",
    "\n",
    "point[:3]\n",
    "point[1:3]\n",
    "\n",
    "# 튜플의 연산\n",
    "point + (1,2)\n",
    "point * 3\n"
   ]
  },
  {
   "cell_type": "code",
   "execution_count": 25,
   "id": "be326404",
   "metadata": {},
   "outputs": [
    {
     "data": {
      "text/plain": [
       "2"
      ]
     },
     "execution_count": 25,
     "metadata": {},
     "output_type": "execute_result"
    }
   ],
   "source": [
    "# 튜플에서 불가능한 문법\n",
    "\n",
    "# point[0] = 100 # 값의 변경 불가\n",
    "\n",
    "#point.append(100) # 값을 추가x\n",
    "\n",
    "#del( point[0] ) # 값을 삭제x\n",
    "\n",
    "\n",
    "#튜플에서 지원하는 함수 count, index\n",
    "point.count(3) # 3의 개수\n",
    "\n",
    "point.index(3) # 3의 위치"
   ]
  },
  {
   "cell_type": "markdown",
   "id": "a6997735",
   "metadata": {},
   "source": [
    "### 딕셔너리 (dictionary)\n",
    "- 사전 (키:값) 값을 저장하는 형태\n",
    "- 자바 map\n",
    "- js obj 입니다\n",
    "- 검색이 빠르다"
   ]
  },
  {
   "cell_type": "code",
   "execution_count": 26,
   "id": "174e1f91",
   "metadata": {},
   "outputs": [
    {
     "data": {
      "text/plain": [
       "{'a': 1, 'b': 2, 'c': 3}"
      ]
     },
     "execution_count": 26,
     "metadata": {},
     "output_type": "execute_result"
    }
   ],
   "source": [
    "# {}로 생성, 키는 반드시 문자열 이어야 한다\n",
    "x = {'a' : 1, 'b' : 2, 'c' : 3}\n",
    "x"
   ]
  },
  {
   "cell_type": "code",
   "execution_count": 27,
   "id": "9ea4ab2e",
   "metadata": {},
   "outputs": [
    {
     "data": {
      "text/plain": [
       "3"
      ]
     },
     "execution_count": 27,
     "metadata": {},
     "output_type": "execute_result"
    }
   ],
   "source": [
    "len(x) # 길이"
   ]
  },
  {
   "cell_type": "code",
   "execution_count": 32,
   "id": "c04fa699",
   "metadata": {},
   "outputs": [
    {
     "data": {
      "text/plain": [
       "{'a': 1, 'b': 2, 'c': 3}"
      ]
     },
     "execution_count": 32,
     "metadata": {},
     "output_type": "execute_result"
    }
   ],
   "source": [
    "# 값의 추가 - 키는 고유하다. 새로운 키로 값을 추가하면 된다.\n",
    "x['d'] = 100\n",
    "x\n",
    "\n",
    "# 값의 확인\n",
    "y = x['d']\n",
    "y\n",
    "\n",
    "# 값의 변경 - 동일한 키를 이용해서 변경한다.\n",
    "x['d'] = 'hello'\n",
    "x\n",
    "\n",
    "# 값의 삭제 - 키를 이용해서 삭제\n",
    "del( x['d'] )\n",
    "x\n"
   ]
  },
  {
   "cell_type": "code",
   "execution_count": 43,
   "id": "08cc887a",
   "metadata": {},
   "outputs": [
    {
     "name": "stdout",
     "output_type": "stream",
     "text": [
      "apple : 사과\n",
      "melon : 메론\n",
      "orange : 오렌지\n",
      "apple\n",
      "melon\n",
      "orange\n"
     ]
    },
    {
     "data": {
      "text/plain": [
       "{0, 1, 2, 3, 4, 5, 6, 7, 8, 9}"
      ]
     },
     "execution_count": 43,
     "metadata": {},
     "output_type": "execute_result"
    }
   ],
   "source": [
    "# 값의 순회 (회전)\n",
    "\n",
    "\n",
    "dic_ = {}\n",
    "dic_\n",
    "\n",
    "dic_['apple'] = '사과'\n",
    "dic_['melon'] = '메론'\n",
    "dic_['orange'] = '오렌지'\n",
    "\n",
    "dic_\n",
    "\n",
    "\n",
    "for i in dic_ :\n",
    "    print(i , ':' , dic_[i])\n",
    "\n",
    "\n",
    "dic_.keys() # 키값만 뽑아서 리스트로 반환\n",
    "dic_.values() # 값만 뽑아서 리스트로 반환\n",
    "\n",
    "for i in dic_.keys() :\n",
    "    print(i)\n",
    "    \n",
    "      "
   ]
  },
  {
   "cell_type": "code",
   "execution_count": null,
   "id": "8c242b2d",
   "metadata": {},
   "outputs": [],
   "source": []
  },
  {
   "cell_type": "code",
   "execution_count": null,
   "id": "572be332",
   "metadata": {},
   "outputs": [],
   "source": []
  },
  {
   "cell_type": "code",
   "execution_count": null,
   "id": "a0b87ef8",
   "metadata": {},
   "outputs": [],
   "source": []
  },
  {
   "cell_type": "code",
   "execution_count": null,
   "id": "5634aedf",
   "metadata": {},
   "outputs": [],
   "source": []
  },
  {
   "cell_type": "code",
   "execution_count": null,
   "id": "d5207dc2",
   "metadata": {},
   "outputs": [],
   "source": []
  },
  {
   "cell_type": "code",
   "execution_count": null,
   "id": "d9a11564",
   "metadata": {},
   "outputs": [],
   "source": []
  },
  {
   "cell_type": "code",
   "execution_count": null,
   "id": "11f75e01",
   "metadata": {},
   "outputs": [],
   "source": []
  },
  {
   "cell_type": "code",
   "execution_count": null,
   "id": "02281fac",
   "metadata": {},
   "outputs": [],
   "source": []
  },
  {
   "cell_type": "code",
   "execution_count": null,
   "id": "e7b40fa1",
   "metadata": {},
   "outputs": [],
   "source": []
  },
  {
   "cell_type": "code",
   "execution_count": null,
   "id": "11fa8688",
   "metadata": {},
   "outputs": [],
   "source": []
  },
  {
   "cell_type": "code",
   "execution_count": null,
   "id": "398ea11b",
   "metadata": {},
   "outputs": [],
   "source": []
  },
  {
   "cell_type": "code",
   "execution_count": null,
   "id": "8be7fa63",
   "metadata": {},
   "outputs": [],
   "source": []
  },
  {
   "cell_type": "code",
   "execution_count": null,
   "id": "23ff94f4",
   "metadata": {},
   "outputs": [],
   "source": []
  },
  {
   "cell_type": "code",
   "execution_count": null,
   "id": "0646a3a3",
   "metadata": {},
   "outputs": [],
   "source": []
  },
  {
   "cell_type": "code",
   "execution_count": null,
   "id": "55b45a75",
   "metadata": {},
   "outputs": [],
   "source": []
  },
  {
   "cell_type": "code",
   "execution_count": null,
   "id": "393266b9",
   "metadata": {},
   "outputs": [],
   "source": []
  },
  {
   "cell_type": "code",
   "execution_count": null,
   "id": "5167010d",
   "metadata": {},
   "outputs": [],
   "source": []
  },
  {
   "cell_type": "code",
   "execution_count": null,
   "id": "af4c53af",
   "metadata": {},
   "outputs": [],
   "source": []
  },
  {
   "cell_type": "code",
   "execution_count": null,
   "id": "c96c65c9",
   "metadata": {},
   "outputs": [],
   "source": []
  }
 ],
 "metadata": {
  "kernelspec": {
   "display_name": "Python 3 (ipykernel)",
   "language": "python",
   "name": "python3"
  },
  "language_info": {
   "codemirror_mode": {
    "name": "ipython",
    "version": 3
   },
   "file_extension": ".py",
   "mimetype": "text/x-python",
   "name": "python",
   "nbconvert_exporter": "python",
   "pygments_lexer": "ipython3",
   "version": "3.11.4"
  }
 },
 "nbformat": 4,
 "nbformat_minor": 5
}
